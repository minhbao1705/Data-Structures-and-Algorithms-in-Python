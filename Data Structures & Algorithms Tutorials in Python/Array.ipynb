{
 "cells": [
  {
   "cell_type": "code",
   "execution_count": 1,
   "metadata": {},
   "outputs": [
    {
     "data": {
      "text/plain": [
       "298"
      ]
     },
     "execution_count": 1,
     "metadata": {},
     "output_type": "execute_result"
    }
   ],
   "source": [
    "stock_prices = [298, 305, 320, 301, 292]\n",
    "\n",
    "#Index for array in most language is start with 0\n",
    "stock_prices[0]"
   ]
  },
  {
   "cell_type": "code",
   "execution_count": 2,
   "metadata": {},
   "outputs": [
    {
     "data": {
      "text/plain": [
       "320"
      ]
     },
     "execution_count": 2,
     "metadata": {},
     "output_type": "execute_result"
    }
   ],
   "source": [
    "### Scenario 1: stock_prices in day 3\n",
    "stock_prices[2]"
   ]
  },
  {
   "cell_type": "markdown",
   "metadata": {},
   "source": [
    "### => Big O complexity on Array is O(1)\n",
    "\n",
    "mean it is constant time operation"
   ]
  },
  {
   "cell_type": "code",
   "execution_count": 4,
   "metadata": {},
   "outputs": [
    {
     "name": "stdout",
     "output_type": "stream",
     "text": [
      "3\n"
     ]
    }
   ],
   "source": [
    "### Scenario 2: Question-On what day price was 301\n",
    "for i in range(len(stock_prices)):\n",
    "    if stock_prices[i] == 301:\n",
    "        print(i)\n",
    "    "
   ]
  },
  {
   "cell_type": "markdown",
   "metadata": {},
   "source": [
    "### => The complexity for this program is O(n)\n",
    "\n",
    "which means how to do n number of iteration to find the value in the array."
   ]
  },
  {
   "cell_type": "code",
   "execution_count": 5,
   "metadata": {},
   "outputs": [
    {
     "name": "stdout",
     "output_type": "stream",
     "text": [
      "298\n",
      "305\n",
      "320\n",
      "301\n",
      "292\n"
     ]
    }
   ],
   "source": [
    "### Scenario 3: Print all prices\n",
    "for price in stock_prices:\n",
    "    print(price)"
   ]
  },
  {
   "cell_type": "markdown",
   "metadata": {},
   "source": [
    "### => The complexity for this program is O(n)"
   ]
  },
  {
   "cell_type": "code",
   "execution_count": 6,
   "metadata": {},
   "outputs": [
    {
     "name": "stdout",
     "output_type": "stream",
     "text": [
      "[298, 284, 305, 320, 301, 292]\n"
     ]
    }
   ],
   "source": [
    "### Scenario 4: Insert new price  284 at index 1\n",
    "stock_prices.insert(1, 284)\n",
    "print(stock_prices)"
   ]
  },
  {
   "cell_type": "markdown",
   "metadata": {},
   "source": [
    "### => The complexity for this program is O(n)\n",
    "\n",
    "Because you have to do n number of warps."
   ]
  },
  {
   "cell_type": "code",
   "execution_count": 9,
   "metadata": {},
   "outputs": [
    {
     "name": "stdout",
     "output_type": "stream",
     "text": [
      "[298, 305, 320, 301, 292]\n"
     ]
    }
   ],
   "source": [
    "### Scenatio 5: Delete element at index 1\n",
    "stock_prices.pop(1)\n",
    "print(stock_prices)"
   ]
  },
  {
   "cell_type": "markdown",
   "metadata": {},
   "source": [
    "### => The complexity for this program is O(n)"
   ]
  },
  {
   "cell_type": "markdown",
   "metadata": {},
   "source": [
    "In python, list is implemented as dynamic array\n",
    "\n",
    "In other languages like JAVA, C++ we have static and dynamic arrays both"
   ]
  },
  {
   "cell_type": "code",
   "execution_count": 10,
   "metadata": {},
   "outputs": [],
   "source": [
    "# Array can store number, text or complex object\n",
    "stock_prices = [2, 3, 5, 6]\n",
    "stock_names = [\"AAPL\", \"IBM\", \"TATA\"]\n",
    "stock_data = [\n",
    "    {\"tickets\": \"APPL\", \"price\":302},\n",
    "    {\"tickets\": \"TSLA\", \"price\":902},\n",
    "    {\"tickets\": \"TATA\", \"price\":278},\n",
    "]"
   ]
  },
  {
   "cell_type": "code",
   "execution_count": 11,
   "metadata": {},
   "outputs": [],
   "source": [
    "# Two Dimension Array\n",
    "stock_prices = [\n",
    "    [2, 3, 5, 6],\n",
    "    [40, 42, 38, 44],\n",
    "    [78, 89, 71, 66]\n",
    "]"
   ]
  },
  {
   "cell_type": "markdown",
   "metadata": {},
   "source": [
    "# Exercise:  Array DataStructure"
   ]
  },
  {
   "cell_type": "markdown",
   "metadata": {},
   "source": [
    "1 - Let us say your expense for every month are listed below,\n",
    "\n",
    "1. January - 2200\n",
    "2. February - 2350\n",
    "3. March - 2600\n",
    "4. April - 2130\n",
    "5. May - 2190\n",
    "\n",
    "Create a list to store these monthly expenses and using that find out,"
   ]
  },
  {
   "cell_type": "markdown",
   "metadata": {},
   "source": [
    "1. In Feb, how many dollars you spent extra compare to January?\n",
    "2. Find out your total expense in first quarter (first three months) of the year.\n",
    "3. Find out if you spent exactly 2000 dollars in any month\n",
    "4. June month just finished and your expense is 1980 dollar. Add this item to our monthly expense list\n",
    "5. You returned an item that you bought in a month of April and\n",
    "got a refund of 200$. Make a correction to your monthly expense list\n",
    "based on this\n"
   ]
  },
  {
   "cell_type": "code",
   "execution_count": 29,
   "metadata": {},
   "outputs": [],
   "source": [
    "exp = [2200, 2350, 2600, 2130, 2190]"
   ]
  },
  {
   "cell_type": "code",
   "execution_count": 30,
   "metadata": {},
   "outputs": [
    {
     "name": "stdout",
     "output_type": "stream",
     "text": [
      "In feb this much extra was spent compared to jan: 150\n",
      "Total expense in first quarter (first three months) of the year: 7150\n",
      "Did I spend 2000 dollars in any month?: False\n",
      "Add June month in monthly expense list: [2200, 2350, 2600, 2130, 2190, 1980]\n",
      "Expenses after 200$ return in April: [2200, 2350, 2600, 1930, 2190, 1980]\n"
     ]
    }
   ],
   "source": [
    "# 1. In Feb, how many dollars you spent extra compare to January?\n",
    "print(\"In feb this much extra was spent compared to jan:\",exp[1] - exp[0])\n",
    "\n",
    "# 2. Find out your total expense in first quarter (first three months) of the year\n",
    "\n",
    "print(\"Total expense in first quarter (first three months) of the year:\", exp[0]+exp[1]+exp[2])\n",
    "\n",
    "# 3. Find out if you spent exactly 2000 dollars in any month\n",
    "print(\"Did I spend 2000 dollars in any month?:\", 2000 in exp)\n",
    "\n",
    "# 4. June month just finished and your expense is 1980 dollar. Add this item to our monthly expense list\n",
    "exp.append(1980)\n",
    "print(\"Add June month in monthly expense list:\", exp)\n",
    "\n",
    "# 5. You returned an item that you bought in a month of April and got a refund of 200$. Make a correction to your monthly expense list based on this\n",
    "exp[3] = exp[3] - 200\n",
    "print(\"Expenses after 200$ return in April:\", exp)"
   ]
  },
  {
   "cell_type": "markdown",
   "metadata": {},
   "source": [
    "2 - You have a list of your favourite marvel super heros.\n",
    "\n",
    "`heros=['spider man','thor','hulk','iron man','captain america']`\n",
    "\n",
    "Using this find out,"
   ]
  },
  {
   "cell_type": "markdown",
   "metadata": {},
   "source": [
    "1. Length of the list\n",
    "2. Add 'black panther' at the end of this list\n",
    "3. You realize that you need to add 'black panther' after 'hulk',\n",
    "   so remove it from the list first and then add it after 'hulk'\n",
    "4. Now you don't like thor and hulk because they get angry easily \n",
    "\n",
    "   So you want to remove thor and hulk from list and replace them with doctor strange (because he is cool).\n",
    "   \n",
    "   Do that with one line of code.\n",
    "5. Sort the heros list in alphabetical order (Hint. Use dir() functions to list down all functions available in list)"
   ]
  },
  {
   "cell_type": "code",
   "execution_count": 38,
   "metadata": {},
   "outputs": [
    {
     "name": "stdout",
     "output_type": "stream",
     "text": [
      "length of the list: 5\n",
      "After add black panther: ['spider man', 'thor', 'hulk', 'iron man', 'captain america', 'black panther']\n",
      "After add black panther after hulk: ['spider man', 'thor', 'hulk', 'black panther', 'iron man', 'captain america']\n",
      "Replace with doctor strange: ['spider man', 'doctor strange', 'black panther', 'iron man', 'captain america']\n",
      "Sort the heros list in alphabetical order: ['black panther', 'captain america', 'doctor strange', 'iron man', 'spider man']\n"
     ]
    }
   ],
   "source": [
    "heros=['spider man','thor','hulk','iron man','captain america']\n",
    "\n",
    "# 1. Length of the list\n",
    "print(\"length of the list:\", len(heros))\n",
    "\n",
    "# 2. Add 'black panther' at the end of this list\n",
    "heros.append('black panther')\n",
    "print(\"After add black panther:\", heros)\n",
    "\n",
    "# 3. You realize that you need to add 'black panther' after 'hulk', so remove it from the list first and then add it after 'hulk'\n",
    "heros.remove('black panther')\n",
    "heros.insert(3, 'black panther')\n",
    "print(\"After add black panther after hulk:\", heros)\n",
    "\n",
    "# 4. Now you don't like thor and hulk because they get angry easily So you want to remove thor and hulk from list and replace them with doctor strange (because he is cool).\n",
    "   #   Do that with one line of code.\n",
    "heros[1:3]=['doctor strange']\n",
    "print(\"Replace with doctor strange:\", heros)\n",
    "\n",
    "# 5. Sort the heros list in alphabetical order (Hint. Use dir() functions to list down all functions available in list)\n",
    "heros.sort()\n",
    "print(\"Sort the heros list in alphabetical order:\",heros)"
   ]
  },
  {
   "cell_type": "markdown",
   "metadata": {},
   "source": [
    "3 - Create a list of all odd numbers between 1 and a max number. Max number is something you need to take from a user using input() function"
   ]
  },
  {
   "cell_type": "code",
   "execution_count": 2,
   "metadata": {},
   "outputs": [
    {
     "name": "stdout",
     "output_type": "stream",
     "text": [
      "odd numbers between 1 and a max number: [1, 3, 5, 7, 9]\n"
     ]
    }
   ],
   "source": [
    "max = int(input(\"Enter max number: \"))\n",
    "\n",
    "odd = []\n",
    "\n",
    "for i in range(1, max):\n",
    "    if i % 2 == 1:\n",
    "        odd.append(i)\n",
    "        \n",
    "print(\"odd numbers between 1 and a max number:\", odd)"
   ]
  }
 ],
 "metadata": {
  "kernelspec": {
   "display_name": "Python 3",
   "language": "python",
   "name": "python3"
  },
  "language_info": {
   "codemirror_mode": {
    "name": "ipython",
    "version": 3
   },
   "file_extension": ".py",
   "mimetype": "text/x-python",
   "name": "python",
   "nbconvert_exporter": "python",
   "pygments_lexer": "ipython3",
   "version": "3.12.8"
  }
 },
 "nbformat": 4,
 "nbformat_minor": 2
}
